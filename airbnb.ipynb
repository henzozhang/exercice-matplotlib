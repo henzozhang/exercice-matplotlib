{
 "cells": [
  {
   "cell_type": "code",
   "execution_count": 27,
   "metadata": {},
   "outputs": [],
   "source": [
    "import pandas as pd \n",
    "df = pd.read_csv(\"listings.csv\")\n",
    "df_reviews= pd.read_csv(\"reviews.csv\")"
   ]
  },
  {
   "cell_type": "code",
   "execution_count": 28,
   "metadata": {},
   "outputs": [],
   "source": [
    "df = df[['host_id','number_of_reviews','neighbourhood_cleansed','host_acceptance_rate','host_response_rate','room_type','amenities',\"price\",'host_verifications','bathrooms_text','description','host_name','id']]\n",
    "\n"
   ]
  },
  {
   "cell_type": "code",
   "execution_count": 29,
   "metadata": {},
   "outputs": [
    {
     "name": "stderr",
     "output_type": "stream",
     "text": [
      "/tmp/ipykernel_28351/3350334474.py:3: FutureWarning: The default value of regex will change from True to False in a future version. In addition, single character regular expressions will *not* be treated as literal strings when regex=True.\n",
      "  df['price']=df['price'].str.replace('$','')\n",
      "/tmp/ipykernel_28351/3350334474.py:18: FutureWarning: In a future version of pandas all arguments of StringMethods.split except for the argument 'pat' will be keyword-only.\n",
      "  df[['number','type']] = df[\"bathrooms_text\"].str.split(' ', 1, expand=True)\n"
     ]
    }
   ],
   "source": [
    "df[\"amenities\"]=df[\"amenities\"].apply(lambda x: x.count(\",\")+1)\n",
    "\n",
    "df['price']=df['price'].str.replace('$','')\n",
    "df['price']=df['price'].str.replace(',','')\n",
    "df['price']=df['price'].astype(float)\n",
    "\n",
    "df['description'] = df['description'].str.len()\n",
    "\n",
    "indexNames = df[ df['price'] == 0 ].index\n",
    "\n",
    "df=df.drop(index=indexNames)\n",
    "\n",
    "df[\"bathrooms_text\"] = df[\"bathrooms_text\"].str.lower()\n",
    "df[\"bathrooms_text\"] = df[\"bathrooms_text\"].str.replace('shared half-bath','1 shared half-bath')\n",
    "df[\"bathrooms_text\"] = df[\"bathrooms_text\"].str.replace('private half-bath','1 private half-bath')\n",
    "df[\"bathrooms_text\"] = df[\"bathrooms_text\"].str.replace('half-bath','1 half-bath')\n",
    "\n",
    "df[['number','type']] = df[\"bathrooms_text\"].str.split(' ', 1, expand=True)\n",
    "df[\"number\"]=df[\"number\"].astype(float)\n",
    "df['listing_id'] = df['id']\n",
    "df=df.dropna()\n"
   ]
  },
  {
   "cell_type": "code",
   "execution_count": 30,
   "metadata": {},
   "outputs": [],
   "source": [
    "df_reviews= df_reviews[['listing_id','reviewer_name']]"
   ]
  },
  {
   "cell_type": "code",
   "execution_count": 31,
   "metadata": {},
   "outputs": [],
   "source": [
    "df.to_csv('n_listings.csv')"
   ]
  },
  {
   "cell_type": "code",
   "execution_count": 32,
   "metadata": {},
   "outputs": [],
   "source": [
    "df_reviews.to_csv('n_reviews.csv')"
   ]
  },
  {
   "cell_type": "code",
   "execution_count": null,
   "metadata": {},
   "outputs": [
    {
     "data": {
      "text/plain": [
       "bath                   3836\n",
       "baths                  1502\n",
       "shared bath             699\n",
       "private bath            651\n",
       "shared baths             87\n",
       "shared 1 half-bath       13\n",
       "half-bath                 6\n",
       "private 1 half-bath       4\n",
       "Name: type, dtype: int64"
      ]
     },
     "execution_count": 179,
     "metadata": {},
     "output_type": "execute_result"
    }
   ],
   "source": [
    "df['type'].value_counts()"
   ]
  },
  {
   "cell_type": "markdown",
   "metadata": {},
   "source": [
    "Calculez le nombre d’hosst et le nombre de review par quartier. (\n",
    "neighbourhood_cleansed)?"
   ]
  },
  {
   "cell_type": "code",
   "execution_count": null,
   "metadata": {},
   "outputs": [
    {
     "data": {
      "text/html": [
       "<div>\n",
       "<style scoped>\n",
       "    .dataframe tbody tr th:only-of-type {\n",
       "        vertical-align: middle;\n",
       "    }\n",
       "\n",
       "    .dataframe tbody tr th {\n",
       "        vertical-align: top;\n",
       "    }\n",
       "\n",
       "    .dataframe thead th {\n",
       "        text-align: right;\n",
       "    }\n",
       "</style>\n",
       "<table border=\"1\" class=\"dataframe\">\n",
       "  <thead>\n",
       "    <tr style=\"text-align: right;\">\n",
       "      <th></th>\n",
       "      <th>host_id</th>\n",
       "      <th>number_of_reviews</th>\n",
       "    </tr>\n",
       "    <tr>\n",
       "      <th>neighbourhood_cleansed</th>\n",
       "      <th></th>\n",
       "      <th></th>\n",
       "    </tr>\n",
       "  </thead>\n",
       "  <tbody>\n",
       "    <tr>\n",
       "      <th>3M-Bourgailh</th>\n",
       "      <td>8</td>\n",
       "      <td>8</td>\n",
       "    </tr>\n",
       "    <tr>\n",
       "      <th>Ambars-et-Lagrave</th>\n",
       "      <td>48</td>\n",
       "      <td>48</td>\n",
       "    </tr>\n",
       "    <tr>\n",
       "      <th>Ambs</th>\n",
       "      <td>46</td>\n",
       "      <td>46</td>\n",
       "    </tr>\n",
       "    <tr>\n",
       "      <th>Arago-La Chataigneraie</th>\n",
       "      <td>40</td>\n",
       "      <td>40</td>\n",
       "    </tr>\n",
       "    <tr>\n",
       "      <th>Arlac</th>\n",
       "      <td>56</td>\n",
       "      <td>56</td>\n",
       "    </tr>\n",
       "    <tr>\n",
       "      <th>...</th>\n",
       "      <td>...</td>\n",
       "      <td>...</td>\n",
       "    </tr>\n",
       "    <tr>\n",
       "      <th>Sardine</th>\n",
       "      <td>16</td>\n",
       "      <td>16</td>\n",
       "    </tr>\n",
       "    <tr>\n",
       "      <th>Talence</th>\n",
       "      <td>279</td>\n",
       "      <td>279</td>\n",
       "    </tr>\n",
       "    <tr>\n",
       "      <th>Toctoucau</th>\n",
       "      <td>16</td>\n",
       "      <td>16</td>\n",
       "    </tr>\n",
       "    <tr>\n",
       "      <th>Verthamon</th>\n",
       "      <td>16</td>\n",
       "      <td>16</td>\n",
       "    </tr>\n",
       "    <tr>\n",
       "      <th>Villenave-d'Ornon</th>\n",
       "      <td>212</td>\n",
       "      <td>212</td>\n",
       "    </tr>\n",
       "  </tbody>\n",
       "</table>\n",
       "<p>62 rows × 2 columns</p>\n",
       "</div>"
      ],
      "text/plain": [
       "                        host_id  number_of_reviews\n",
       "neighbourhood_cleansed                            \n",
       "3M-Bourgailh                  8                  8\n",
       "Ambars-et-Lagrave            48                 48\n",
       "Ambs                         46                 46\n",
       "Arago-La Chataigneraie       40                 40\n",
       "Arlac                        56                 56\n",
       "...                         ...                ...\n",
       "Sardine                      16                 16\n",
       "Talence                     279                279\n",
       "Toctoucau                    16                 16\n",
       "Verthamon                    16                 16\n",
       "Villenave-d'Ornon           212                212\n",
       "\n",
       "[62 rows x 2 columns]"
      ]
     },
     "execution_count": 180,
     "metadata": {},
     "output_type": "execute_result"
    }
   ],
   "source": [
    "df_neighbourhood_cleansed = df[['host_id','number_of_reviews','neighbourhood_cleansed']]\n",
    "df_neighbourhood_cleansed.groupby(by=\"neighbourhood_cleansed\").count()"
   ]
  },
  {
   "cell_type": "markdown",
   "metadata": {},
   "source": [
    "Quels sont les pourcentage d’acceptation et de réponse moyen des hosts?"
   ]
  },
  {
   "cell_type": "code",
   "execution_count": null,
   "metadata": {},
   "outputs": [
    {
     "name": "stdout",
     "output_type": "stream",
     "text": [
      "0         99%\n",
      "1        100%\n",
      "3         78%\n",
      "4        100%\n",
      "5        100%\n",
      "         ... \n",
      "10877     99%\n",
      "10879      0%\n",
      "10881     90%\n",
      "10882    100%\n",
      "10883    100%\n",
      "Name: host_acceptance_rate, Length: 6798, dtype: object\n",
      "0        100%\n",
      "1        100%\n",
      "3        100%\n",
      "4        100%\n",
      "5        100%\n",
      "         ... \n",
      "10877     99%\n",
      "10879    100%\n",
      "10881    100%\n",
      "10882    100%\n",
      "10883    100%\n",
      "Name: host_response_rate, Length: 6798, dtype: object\n"
     ]
    }
   ],
   "source": [
    "df_acce_rate = df_listing[\"host_response_rate\"].dropna().apply(lambda x : x.replace(\"%\",\"\")).astype(\"int\").mean()\n",
    "df_reponse_rate = df_listing[\"host_acceptance_rate\"].dropna().apply(lambda x : x.replace(\"%\",\"\")).astype(\"int\").mean()\n",
    "print(df_acce_rate )\n",
    "print(df_reponse_rate)"
   ]
  },
  {
   "cell_type": "markdown",
   "metadata": {},
   "source": [
    "Quel pourcentage des hosts on une vérification"
   ]
  },
  {
   "cell_type": "code",
   "execution_count": null,
   "metadata": {},
   "outputs": [
    {
     "name": "stdout",
     "output_type": "stream",
     "text": [
      "le pourcentage de validation par n_email est 0.92\n",
      "le pourcentage de validation par n_telephone est 1.00\n",
      "le pourcentage de validation par n_work_email est 0.07\n"
     ]
    }
   ],
   "source": [
    "from ast import literal_eval\n",
    "\n",
    "def pourcentage_moyen_vérification(df):\n",
    "    serie_verification =df['host_verifications']\n",
    "    serie_length =serie_verification.size\n",
    "    n_email = 0\n",
    "    n_telephone = 0\n",
    "    n_work_email = 0\n",
    "\n",
    "    for valitation in serie_verification:\n",
    "        val = literal_eval(valitation)\n",
    "        for ele in val:\n",
    "            if ele == 'email':\n",
    "                n_email+=1\n",
    "            elif ele == 'phone':\n",
    "                n_telephone+=1\n",
    "            elif ele == 'work_email':\n",
    "                n_work_email+=1\n",
    "    pourcen_telephone = n_telephone/serie_length \n",
    "    pourcen_email = n_email/serie_length\n",
    "    pourcen_work_mail = n_work_email/serie_length\n",
    "\n",
    "    # print(pourcen_telephone,pourcen_email,pourcen_work_mail)\n",
    "\n",
    "    print(\"le pourcentage de validation par n_email est {0:.2f}\".format(pourcen_email))\n",
    "    print(\"le pourcentage de validation par n_telephone est {0:.2f}\".format(pourcen_telephone))\n",
    "    print(\"le pourcentage de validation par n_work_email est {0:.2f}\".format(pourcen_work_mail))\n",
    "\n",
    "pourcentage_moyen_vérification(df)"
   ]
  },
  {
   "cell_type": "markdown",
   "metadata": {},
   "source": [
    "En fonction du type de room, calculez le nombre moyen d’amenities et l'écart type."
   ]
  },
  {
   "cell_type": "code",
   "execution_count": null,
   "metadata": {},
   "outputs": [
    {
     "data": {
      "text/html": [
       "<div>\n",
       "<style scoped>\n",
       "    .dataframe tbody tr th:only-of-type {\n",
       "        vertical-align: middle;\n",
       "    }\n",
       "\n",
       "    .dataframe tbody tr th {\n",
       "        vertical-align: top;\n",
       "    }\n",
       "\n",
       "    .dataframe thead tr th {\n",
       "        text-align: left;\n",
       "    }\n",
       "\n",
       "    .dataframe thead tr:last-of-type th {\n",
       "        text-align: right;\n",
       "    }\n",
       "</style>\n",
       "<table border=\"1\" class=\"dataframe\">\n",
       "  <thead>\n",
       "    <tr>\n",
       "      <th></th>\n",
       "      <th colspan=\"2\" halign=\"left\">amenities</th>\n",
       "    </tr>\n",
       "    <tr>\n",
       "      <th></th>\n",
       "      <th>mean</th>\n",
       "      <th>std</th>\n",
       "    </tr>\n",
       "    <tr>\n",
       "      <th>room_type</th>\n",
       "      <th></th>\n",
       "      <th></th>\n",
       "    </tr>\n",
       "  </thead>\n",
       "  <tbody>\n",
       "    <tr>\n",
       "      <th>Entire home/apt</th>\n",
       "      <td>31.788868</td>\n",
       "      <td>13.564517</td>\n",
       "    </tr>\n",
       "    <tr>\n",
       "      <th>Hotel room</th>\n",
       "      <td>30.483871</td>\n",
       "      <td>15.112624</td>\n",
       "    </tr>\n",
       "    <tr>\n",
       "      <th>Private room</th>\n",
       "      <td>24.727332</td>\n",
       "      <td>12.802753</td>\n",
       "    </tr>\n",
       "    <tr>\n",
       "      <th>Shared room</th>\n",
       "      <td>19.371429</td>\n",
       "      <td>7.712044</td>\n",
       "    </tr>\n",
       "  </tbody>\n",
       "</table>\n",
       "</div>"
      ],
      "text/plain": [
       "                 amenities           \n",
       "                      mean        std\n",
       "room_type                            \n",
       "Entire home/apt  31.788868  13.564517\n",
       "Hotel room       30.483871  15.112624\n",
       "Private room     24.727332  12.802753\n",
       "Shared room      19.371429   7.712044"
      ]
     },
     "execution_count": 183,
     "metadata": {},
     "output_type": "execute_result"
    }
   ],
   "source": [
    "df_room = df[[\"room_type\",\"amenities\"]]\n",
    "df_room.groupby(by=\"room_type\").agg([\"mean\",\"std\"])\n"
   ]
  },
  {
   "cell_type": "markdown",
   "metadata": {},
   "source": [
    "Quel est le prix median par type de room, le maximum, le minimum, le premier et le troisième quartile?\n"
   ]
  },
  {
   "cell_type": "code",
   "execution_count": null,
   "metadata": {},
   "outputs": [
    {
     "data": {
      "text/html": [
       "<div>\n",
       "<style scoped>\n",
       "    .dataframe tbody tr th:only-of-type {\n",
       "        vertical-align: middle;\n",
       "    }\n",
       "\n",
       "    .dataframe tbody tr th {\n",
       "        vertical-align: top;\n",
       "    }\n",
       "\n",
       "    .dataframe thead tr th {\n",
       "        text-align: left;\n",
       "    }\n",
       "\n",
       "    .dataframe thead tr:last-of-type th {\n",
       "        text-align: right;\n",
       "    }\n",
       "</style>\n",
       "<table border=\"1\" class=\"dataframe\">\n",
       "  <thead>\n",
       "    <tr>\n",
       "      <th></th>\n",
       "      <th colspan=\"8\" halign=\"left\">price</th>\n",
       "    </tr>\n",
       "    <tr>\n",
       "      <th></th>\n",
       "      <th>count</th>\n",
       "      <th>mean</th>\n",
       "      <th>std</th>\n",
       "      <th>min</th>\n",
       "      <th>25%</th>\n",
       "      <th>50%</th>\n",
       "      <th>75%</th>\n",
       "      <th>max</th>\n",
       "    </tr>\n",
       "    <tr>\n",
       "      <th>room_type</th>\n",
       "      <th></th>\n",
       "      <th></th>\n",
       "      <th></th>\n",
       "      <th></th>\n",
       "      <th></th>\n",
       "      <th></th>\n",
       "      <th></th>\n",
       "      <th></th>\n",
       "    </tr>\n",
       "  </thead>\n",
       "  <tbody>\n",
       "    <tr>\n",
       "      <th>Entire home/apt</th>\n",
       "      <td>5210.0</td>\n",
       "      <td>124.841075</td>\n",
       "      <td>109.448398</td>\n",
       "      <td>15.0</td>\n",
       "      <td>65.0</td>\n",
       "      <td>90.0</td>\n",
       "      <td>145.0</td>\n",
       "      <td>2600.0</td>\n",
       "    </tr>\n",
       "    <tr>\n",
       "      <th>Hotel room</th>\n",
       "      <td>31.0</td>\n",
       "      <td>131.741935</td>\n",
       "      <td>62.493182</td>\n",
       "      <td>32.0</td>\n",
       "      <td>100.0</td>\n",
       "      <td>120.0</td>\n",
       "      <td>143.0</td>\n",
       "      <td>286.0</td>\n",
       "    </tr>\n",
       "    <tr>\n",
       "      <th>Private room</th>\n",
       "      <td>1522.0</td>\n",
       "      <td>61.038108</td>\n",
       "      <td>60.907275</td>\n",
       "      <td>17.0</td>\n",
       "      <td>34.0</td>\n",
       "      <td>44.0</td>\n",
       "      <td>60.0</td>\n",
       "      <td>1000.0</td>\n",
       "    </tr>\n",
       "    <tr>\n",
       "      <th>Shared room</th>\n",
       "      <td>35.0</td>\n",
       "      <td>59.114286</td>\n",
       "      <td>51.389957</td>\n",
       "      <td>21.0</td>\n",
       "      <td>42.0</td>\n",
       "      <td>46.0</td>\n",
       "      <td>49.5</td>\n",
       "      <td>275.0</td>\n",
       "    </tr>\n",
       "  </tbody>\n",
       "</table>\n",
       "</div>"
      ],
      "text/plain": [
       "                  price                                                     \\\n",
       "                  count        mean         std   min    25%    50%    75%   \n",
       "room_type                                                                    \n",
       "Entire home/apt  5210.0  124.841075  109.448398  15.0   65.0   90.0  145.0   \n",
       "Hotel room         31.0  131.741935   62.493182  32.0  100.0  120.0  143.0   \n",
       "Private room     1522.0   61.038108   60.907275  17.0   34.0   44.0   60.0   \n",
       "Shared room        35.0   59.114286   51.389957  21.0   42.0   46.0   49.5   \n",
       "\n",
       "                         \n",
       "                    max  \n",
       "room_type                \n",
       "Entire home/apt  2600.0  \n",
       "Hotel room        286.0  \n",
       "Private room     1000.0  \n",
       "Shared room       275.0  "
      ]
     },
     "execution_count": 184,
     "metadata": {},
     "output_type": "execute_result"
    }
   ],
   "source": [
    "df_price =df[[\"room_type\",\"price\"]]\n",
    "df_price.groupby('room_type').describe()"
   ]
  },
  {
   "cell_type": "markdown",
   "metadata": {},
   "source": [
    "Combien y-a-t-il d’annonces par \"valeur de salle de bain\". (0.25 / 0.5 / 1 / 1.5 ….)"
   ]
  },
  {
   "cell_type": "code",
   "execution_count": null,
   "metadata": {},
   "outputs": [
    {
     "data": {
      "text/plain": [
       "1.0    3836\n",
       "2.0    1455\n",
       "0.5     722\n",
       "1.5     316\n",
       "3.0     193\n",
       "2.5     114\n",
       "4.0      56\n",
       "0.0      31\n",
       "5.0      28\n",
       "3.5      24\n",
       "6.0       8\n",
       "4.5       4\n",
       "8.0       4\n",
       "5.5       3\n",
       "6.5       2\n",
       "7.0       1\n",
       "7.5       1\n",
       "Name: points, dtype: int64"
      ]
     },
     "execution_count": 185,
     "metadata": {},
     "output_type": "execute_result"
    }
   ],
   "source": [
    "import numpy as np\n",
    "\n",
    "df['type'] =df['type'].apply(lambda x : 1 if x==\"bath\" else ( 1 if x =='baths' else (0.5 if x=='shared bath'else( 2 if x=='private bath' else(2 if x=='shared baths' else(0.5 if x == 'shared 1 half-bath'else(0.5)) )))))\n",
    "\n",
    "df[\"number\"]=df[\"number\"].astype(float)\n",
    "\n",
    "df[\"points\"] = df[['number','type']].apply(lambda x : x[0]*x[1], axis=1)\n",
    "\n",
    "df[\"points\"].value_counts()\n",
    "\n",
    "\n",
    "# df[\"new_col\"] = df[[\"taille\",\"nom\"]].apply(lambda x: x[0]+len(x[1]), axis=1)"
   ]
  },
  {
   "cell_type": "code",
   "execution_count": null,
   "metadata": {},
   "outputs": [
    {
     "data": {
      "text/html": [
       "<div>\n",
       "<style scoped>\n",
       "    .dataframe tbody tr th:only-of-type {\n",
       "        vertical-align: middle;\n",
       "    }\n",
       "\n",
       "    .dataframe tbody tr th {\n",
       "        vertical-align: top;\n",
       "    }\n",
       "\n",
       "    .dataframe thead th {\n",
       "        text-align: right;\n",
       "    }\n",
       "</style>\n",
       "<table border=\"1\" class=\"dataframe\">\n",
       "  <thead>\n",
       "    <tr style=\"text-align: right;\">\n",
       "      <th></th>\n",
       "      <th>number_of_reviews</th>\n",
       "      <th>description</th>\n",
       "    </tr>\n",
       "  </thead>\n",
       "  <tbody>\n",
       "    <tr>\n",
       "      <th>0</th>\n",
       "      <td>15</td>\n",
       "      <td>1000.0</td>\n",
       "    </tr>\n",
       "    <tr>\n",
       "      <th>1</th>\n",
       "      <td>3</td>\n",
       "      <td>912.0</td>\n",
       "    </tr>\n",
       "    <tr>\n",
       "      <th>3</th>\n",
       "      <td>377</td>\n",
       "      <td>1000.0</td>\n",
       "    </tr>\n",
       "    <tr>\n",
       "      <th>4</th>\n",
       "      <td>491</td>\n",
       "      <td>1000.0</td>\n",
       "    </tr>\n",
       "    <tr>\n",
       "      <th>5</th>\n",
       "      <td>53</td>\n",
       "      <td>1000.0</td>\n",
       "    </tr>\n",
       "    <tr>\n",
       "      <th>...</th>\n",
       "      <td>...</td>\n",
       "      <td>...</td>\n",
       "    </tr>\n",
       "    <tr>\n",
       "      <th>10877</th>\n",
       "      <td>6</td>\n",
       "      <td>1000.0</td>\n",
       "    </tr>\n",
       "    <tr>\n",
       "      <th>10879</th>\n",
       "      <td>11</td>\n",
       "      <td>1000.0</td>\n",
       "    </tr>\n",
       "    <tr>\n",
       "      <th>10881</th>\n",
       "      <td>82</td>\n",
       "      <td>1000.0</td>\n",
       "    </tr>\n",
       "    <tr>\n",
       "      <th>10882</th>\n",
       "      <td>44</td>\n",
       "      <td>809.0</td>\n",
       "    </tr>\n",
       "    <tr>\n",
       "      <th>10883</th>\n",
       "      <td>16</td>\n",
       "      <td>1000.0</td>\n",
       "    </tr>\n",
       "  </tbody>\n",
       "</table>\n",
       "<p>6798 rows × 2 columns</p>\n",
       "</div>"
      ],
      "text/plain": [
       "       number_of_reviews  description\n",
       "0                     15       1000.0\n",
       "1                      3        912.0\n",
       "3                    377       1000.0\n",
       "4                    491       1000.0\n",
       "5                     53       1000.0\n",
       "...                  ...          ...\n",
       "10877                  6       1000.0\n",
       "10879                 11       1000.0\n",
       "10881                 82       1000.0\n",
       "10882                 44        809.0\n",
       "10883                 16       1000.0\n",
       "\n",
       "[6798 rows x 2 columns]"
      ]
     },
     "execution_count": 186,
     "metadata": {},
     "output_type": "execute_result"
    }
   ],
   "source": [
    "df[['number_of_reviews','description']]"
   ]
  },
  {
   "cell_type": "markdown",
   "metadata": {},
   "source": [
    "il y a t’il une corrélation entre le nombre de reviews et la taille de la description en terme de nombre de caractères?"
   ]
  },
  {
   "cell_type": "code",
   "execution_count": null,
   "metadata": {},
   "outputs": [
    {
     "data": {
      "text/html": [
       "<div>\n",
       "<style scoped>\n",
       "    .dataframe tbody tr th:only-of-type {\n",
       "        vertical-align: middle;\n",
       "    }\n",
       "\n",
       "    .dataframe tbody tr th {\n",
       "        vertical-align: top;\n",
       "    }\n",
       "\n",
       "    .dataframe thead th {\n",
       "        text-align: right;\n",
       "    }\n",
       "</style>\n",
       "<table border=\"1\" class=\"dataframe\">\n",
       "  <thead>\n",
       "    <tr style=\"text-align: right;\">\n",
       "      <th></th>\n",
       "      <th>number_of_reviews</th>\n",
       "      <th>description</th>\n",
       "    </tr>\n",
       "  </thead>\n",
       "  <tbody>\n",
       "    <tr>\n",
       "      <th>number_of_reviews</th>\n",
       "      <td>1.00000</td>\n",
       "      <td>0.15705</td>\n",
       "    </tr>\n",
       "    <tr>\n",
       "      <th>description</th>\n",
       "      <td>0.15705</td>\n",
       "      <td>1.00000</td>\n",
       "    </tr>\n",
       "  </tbody>\n",
       "</table>\n",
       "</div>"
      ],
      "text/plain": [
       "                   number_of_reviews  description\n",
       "number_of_reviews            1.00000      0.15705\n",
       "description                  0.15705      1.00000"
      ]
     },
     "execution_count": 187,
     "metadata": {},
     "output_type": "execute_result"
    }
   ],
   "source": [
    "df[['number_of_reviews','description']].corr()\n"
   ]
  },
  {
   "cell_type": "markdown",
   "metadata": {},
   "source": [
    "Quel est ce pourcentage général de séjour où le nom de l'host est identique au nom du reviewer"
   ]
  },
  {
   "cell_type": "code",
   "execution_count": null,
   "metadata": {},
   "outputs": [
    {
     "data": {
      "text/plain": [
       "0.0015211061640705585"
      ]
     },
     "execution_count": 188,
     "metadata": {},
     "output_type": "execute_result"
    }
   ],
   "source": [
    "df1 = df[['listing_id','host_name']]\n",
    "df2 = df_reviews[['listing_id','reviewer_name']]\n",
    "df3 = df1.merge(df2, how='right')\n",
    "df3.dropna()\n",
    "(df3['host_name'] ==df3['reviewer_name']).sum()/len(df_reviews)\n"
   ]
  }
 ],
 "metadata": {
  "kernelspec": {
   "display_name": "Python 3.10.8 ('dataanalyste')",
   "language": "python",
   "name": "python3"
  },
  "language_info": {
   "codemirror_mode": {
    "name": "ipython",
    "version": 3
   },
   "file_extension": ".py",
   "mimetype": "text/x-python",
   "name": "python",
   "nbconvert_exporter": "python",
   "pygments_lexer": "ipython3",
   "version": "3.10.8"
  },
  "orig_nbformat": 4,
  "vscode": {
   "interpreter": {
    "hash": "41cc8a40af24e01e3a2742829d8f812692992de55ad3f4e77cfd94152f4088b9"
   }
  }
 },
 "nbformat": 4,
 "nbformat_minor": 2
}
