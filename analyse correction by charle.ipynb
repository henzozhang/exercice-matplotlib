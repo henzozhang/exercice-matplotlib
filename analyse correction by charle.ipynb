{
 "cells": [
  {
   "cell_type": "code",
   "execution_count": 3,
   "metadata": {},
   "outputs": [],
   "source": [
    "import pandas as pd"
   ]
  },
  {
   "cell_type": "code",
   "execution_count": 5,
   "metadata": {},
   "outputs": [],
   "source": [
    "df_listing = pd.read_csv(\"Data/listings.csv\")"
   ]
  },
  {
   "cell_type": "code",
   "execution_count": 7,
   "metadata": {},
   "outputs": [
    {
     "name": "stdout",
     "output_type": "stream",
     "text": [
      "<class 'pandas.core.frame.DataFrame'>\n",
      "RangeIndex: 6893 entries, 0 to 6892\n",
      "Data columns (total 75 columns):\n",
      " #   Column                                        Non-Null Count  Dtype  \n",
      "---  ------                                        --------------  -----  \n",
      " 0   id                                            6893 non-null   int64  \n",
      " 1   listing_url                                   6893 non-null   object \n",
      " 2   scrape_id                                     6893 non-null   int64  \n",
      " 3   last_scraped                                  6893 non-null   object \n",
      " 4   source                                        6893 non-null   object \n",
      " 5   name                                          6893 non-null   object \n",
      " 6   description                                   6877 non-null   object \n",
      " 7   neighborhood_overview                         4628 non-null   object \n",
      " 8   picture_url                                   6893 non-null   object \n",
      " 9   host_id                                       6893 non-null   int64  \n",
      " 10  host_url                                      6893 non-null   object \n",
      " 11  host_name                                     6893 non-null   object \n",
      " 12  host_since                                    6893 non-null   object \n",
      " 13  host_location                                 6122 non-null   object \n",
      " 14  host_about                                    4132 non-null   object \n",
      " 15  host_response_time                            5236 non-null   object \n",
      " 16  host_response_rate                            5236 non-null   object \n",
      " 17  host_acceptance_rate                          6031 non-null   object \n",
      " 18  host_is_superhost                             6885 non-null   object \n",
      " 19  host_thumbnail_url                            6893 non-null   object \n",
      " 20  host_picture_url                              6893 non-null   object \n",
      " 21  host_neighbourhood                            3096 non-null   object \n",
      " 22  host_listings_count                           6893 non-null   int64  \n",
      " 23  host_total_listings_count                     6893 non-null   int64  \n",
      " 24  host_verifications                            6893 non-null   object \n",
      " 25  host_has_profile_pic                          6893 non-null   object \n",
      " 26  host_identity_verified                        6893 non-null   object \n",
      " 27  neighbourhood                                 4628 non-null   object \n",
      " 28  neighbourhood_cleansed                        6893 non-null   object \n",
      " 29  neighbourhood_group_cleansed                  0 non-null      float64\n",
      " 30  latitude                                      6893 non-null   float64\n",
      " 31  longitude                                     6893 non-null   float64\n",
      " 32  property_type                                 6893 non-null   object \n",
      " 33  room_type                                     6893 non-null   object \n",
      " 34  accommodates                                  6893 non-null   int64  \n",
      " 35  bathrooms                                     0 non-null      float64\n",
      " 36  bathrooms_text                                6878 non-null   object \n",
      " 37  bedrooms                                      6578 non-null   float64\n",
      " 38  beds                                          6792 non-null   float64\n",
      " 39  amenities                                     6893 non-null   object \n",
      " 40  price                                         6893 non-null   object \n",
      " 41  minimum_nights                                6893 non-null   int64  \n",
      " 42  maximum_nights                                6893 non-null   int64  \n",
      " 43  minimum_minimum_nights                        6891 non-null   float64\n",
      " 44  maximum_minimum_nights                        6891 non-null   float64\n",
      " 45  minimum_maximum_nights                        6891 non-null   float64\n",
      " 46  maximum_maximum_nights                        6891 non-null   float64\n",
      " 47  minimum_nights_avg_ntm                        6891 non-null   float64\n",
      " 48  maximum_nights_avg_ntm                        6891 non-null   float64\n",
      " 49  calendar_updated                              0 non-null      float64\n",
      " 50  has_availability                              6893 non-null   object \n",
      " 51  availability_30                               6893 non-null   int64  \n",
      " 52  availability_60                               6893 non-null   int64  \n",
      " 53  availability_90                               6893 non-null   int64  \n",
      " 54  availability_365                              6893 non-null   int64  \n",
      " 55  calendar_last_scraped                         6893 non-null   object \n",
      " 56  number_of_reviews                             6893 non-null   int64  \n",
      " 57  number_of_reviews_ltm                         6893 non-null   int64  \n",
      " 58  number_of_reviews_l30d                        6893 non-null   int64  \n",
      " 59  first_review                                  6247 non-null   object \n",
      " 60  last_review                                   6247 non-null   object \n",
      " 61  review_scores_rating                          6247 non-null   float64\n",
      " 62  review_scores_accuracy                        6242 non-null   float64\n",
      " 63  review_scores_cleanliness                     6242 non-null   float64\n",
      " 64  review_scores_checkin                         6242 non-null   float64\n",
      " 65  review_scores_communication                   6242 non-null   float64\n",
      " 66  review_scores_location                        6242 non-null   float64\n",
      " 67  review_scores_value                           6242 non-null   float64\n",
      " 68  license                                       6449 non-null   object \n",
      " 69  instant_bookable                              6893 non-null   object \n",
      " 70  calculated_host_listings_count                6893 non-null   int64  \n",
      " 71  calculated_host_listings_count_entire_homes   6893 non-null   int64  \n",
      " 72  calculated_host_listings_count_private_rooms  6893 non-null   int64  \n",
      " 73  calculated_host_listings_count_shared_rooms   6893 non-null   int64  \n",
      " 74  reviews_per_month                             6247 non-null   float64\n",
      "dtypes: float64(21), int64(19), object(35)\n",
      "memory usage: 3.9+ MB\n"
     ]
    }
   ],
   "source": [
    "df_listing.info()"
   ]
  },
  {
   "cell_type": "markdown",
   "metadata": {},
   "source": [
    "### Calculez le nombre d’host et le nombre de review par quartier. (​​neighbourhood_cleansed)?"
   ]
  },
  {
   "cell_type": "code",
   "execution_count": 15,
   "metadata": {},
   "outputs": [],
   "source": [
    "nombre_host = df_listing.groupby('neighbourhood_cleansed').host_id.nunique()"
   ]
  },
  {
   "cell_type": "code",
   "execution_count": 18,
   "metadata": {},
   "outputs": [],
   "source": [
    "nombre_review = df_listing.groupby('neighbourhood_cleansed').number_of_reviews.sum()"
   ]
  },
  {
   "cell_type": "code",
   "execution_count": 22,
   "metadata": {},
   "outputs": [
    {
     "data": {
      "text/html": [
       "<div>\n",
       "<style scoped>\n",
       "    .dataframe tbody tr th:only-of-type {\n",
       "        vertical-align: middle;\n",
       "    }\n",
       "\n",
       "    .dataframe tbody tr th {\n",
       "        vertical-align: top;\n",
       "    }\n",
       "\n",
       "    .dataframe thead th {\n",
       "        text-align: right;\n",
       "    }\n",
       "</style>\n",
       "<table border=\"1\" class=\"dataframe\">\n",
       "  <thead>\n",
       "    <tr style=\"text-align: right;\">\n",
       "      <th></th>\n",
       "      <th>host_id</th>\n",
       "      <th>number_of_reviews</th>\n",
       "    </tr>\n",
       "    <tr>\n",
       "      <th>neighbourhood_cleansed</th>\n",
       "      <th></th>\n",
       "      <th></th>\n",
       "    </tr>\n",
       "  </thead>\n",
       "  <tbody>\n",
       "    <tr>\n",
       "      <th>Bijlmer-Centrum</th>\n",
       "      <td>76</td>\n",
       "      <td>4964</td>\n",
       "    </tr>\n",
       "    <tr>\n",
       "      <th>Bijlmer-Oost</th>\n",
       "      <td>29</td>\n",
       "      <td>983</td>\n",
       "    </tr>\n",
       "    <tr>\n",
       "      <th>Bos en Lommer</th>\n",
       "      <td>284</td>\n",
       "      <td>10586</td>\n",
       "    </tr>\n",
       "    <tr>\n",
       "      <th>Buitenveldert - Zuidas</th>\n",
       "      <td>111</td>\n",
       "      <td>5691</td>\n",
       "    </tr>\n",
       "    <tr>\n",
       "      <th>Centrum-Oost</th>\n",
       "      <td>489</td>\n",
       "      <td>45227</td>\n",
       "    </tr>\n",
       "    <tr>\n",
       "      <th>Centrum-West</th>\n",
       "      <td>674</td>\n",
       "      <td>69068</td>\n",
       "    </tr>\n",
       "    <tr>\n",
       "      <th>De Aker - Nieuw Sloten</th>\n",
       "      <td>69</td>\n",
       "      <td>6330</td>\n",
       "    </tr>\n",
       "    <tr>\n",
       "      <th>De Baarsjes - Oud-West</th>\n",
       "      <td>916</td>\n",
       "      <td>40372</td>\n",
       "    </tr>\n",
       "    <tr>\n",
       "      <th>De Pijp - Rivierenbuurt</th>\n",
       "      <td>644</td>\n",
       "      <td>30418</td>\n",
       "    </tr>\n",
       "    <tr>\n",
       "      <th>Gaasperdam - Driemond</th>\n",
       "      <td>74</td>\n",
       "      <td>5042</td>\n",
       "    </tr>\n",
       "    <tr>\n",
       "      <th>Geuzenveld - Slotermeer</th>\n",
       "      <td>86</td>\n",
       "      <td>5260</td>\n",
       "    </tr>\n",
       "    <tr>\n",
       "      <th>IJburg - Zeeburgereiland</th>\n",
       "      <td>157</td>\n",
       "      <td>6088</td>\n",
       "    </tr>\n",
       "    <tr>\n",
       "      <th>Noord-Oost</th>\n",
       "      <td>159</td>\n",
       "      <td>10004</td>\n",
       "    </tr>\n",
       "    <tr>\n",
       "      <th>Noord-West</th>\n",
       "      <td>181</td>\n",
       "      <td>7776</td>\n",
       "    </tr>\n",
       "    <tr>\n",
       "      <th>Oostelijk Havengebied - Indische Buurt</th>\n",
       "      <td>224</td>\n",
       "      <td>9500</td>\n",
       "    </tr>\n",
       "    <tr>\n",
       "      <th>Osdorp</th>\n",
       "      <td>54</td>\n",
       "      <td>6921</td>\n",
       "    </tr>\n",
       "    <tr>\n",
       "      <th>Oud-Noord</th>\n",
       "      <td>225</td>\n",
       "      <td>13076</td>\n",
       "    </tr>\n",
       "    <tr>\n",
       "      <th>Oud-Oost</th>\n",
       "      <td>338</td>\n",
       "      <td>14037</td>\n",
       "    </tr>\n",
       "    <tr>\n",
       "      <th>Slotervaart</th>\n",
       "      <td>100</td>\n",
       "      <td>6078</td>\n",
       "    </tr>\n",
       "    <tr>\n",
       "      <th>Watergraafsmeer</th>\n",
       "      <td>211</td>\n",
       "      <td>9156</td>\n",
       "    </tr>\n",
       "    <tr>\n",
       "      <th>Westerpark</th>\n",
       "      <td>403</td>\n",
       "      <td>16829</td>\n",
       "    </tr>\n",
       "    <tr>\n",
       "      <th>Zuid</th>\n",
       "      <td>372</td>\n",
       "      <td>19498</td>\n",
       "    </tr>\n",
       "  </tbody>\n",
       "</table>\n",
       "</div>"
      ],
      "text/plain": [
       "                                        host_id  number_of_reviews\n",
       "neighbourhood_cleansed                                            \n",
       "Bijlmer-Centrum                              76               4964\n",
       "Bijlmer-Oost                                 29                983\n",
       "Bos en Lommer                               284              10586\n",
       "Buitenveldert - Zuidas                      111               5691\n",
       "Centrum-Oost                                489              45227\n",
       "Centrum-West                                674              69068\n",
       "De Aker - Nieuw Sloten                       69               6330\n",
       "De Baarsjes - Oud-West                      916              40372\n",
       "De Pijp - Rivierenbuurt                     644              30418\n",
       "Gaasperdam - Driemond                        74               5042\n",
       "Geuzenveld - Slotermeer                      86               5260\n",
       "IJburg - Zeeburgereiland                    157               6088\n",
       "Noord-Oost                                  159              10004\n",
       "Noord-West                                  181               7776\n",
       "Oostelijk Havengebied - Indische Buurt      224               9500\n",
       "Osdorp                                       54               6921\n",
       "Oud-Noord                                   225              13076\n",
       "Oud-Oost                                    338              14037\n",
       "Slotervaart                                 100               6078\n",
       "Watergraafsmeer                             211               9156\n",
       "Westerpark                                  403              16829\n",
       "Zuid                                        372              19498"
      ]
     },
     "execution_count": 22,
     "metadata": {},
     "output_type": "execute_result"
    }
   ],
   "source": [
    "pd.concat([nombre_host,nombre_review], axis = 1)"
   ]
  },
  {
   "cell_type": "markdown",
   "metadata": {},
   "source": [
    "### Quels sont les pourcentage d’acceptation et de réponse moyen des hosts?"
   ]
  },
  {
   "cell_type": "code",
   "execution_count": 129,
   "metadata": {},
   "outputs": [
    {
     "data": {
      "text/plain": [
       "94.96734148204736"
      ]
     },
     "execution_count": 129,
     "metadata": {},
     "output_type": "execute_result"
    }
   ],
   "source": [
    "df_listing[\"host_response_rate\"].dropna().apply(lambda x : x.replace(\"%\",\"\")).astype(\"int\").mean()"
   ]
  },
  {
   "cell_type": "code",
   "execution_count": null,
   "metadata": {},
   "outputs": [],
   "source": [
    "df_listing[\"host_acceptance_rate\"].dropna().apply(lambda x : x.replace(\"%\",\"\")).astype(\"int\").mean()"
   ]
  },
  {
   "cell_type": "markdown",
   "metadata": {},
   "source": [
    "### Quel pourcentage des hosts on une vérification:\n",
    "\n",
    "- par téléphone\n",
    "- par email\n",
    "- par email pro"
   ]
  },
  {
   "cell_type": "code",
   "execution_count": 72,
   "metadata": {},
   "outputs": [
    {
     "data": {
      "text/plain": [
       "{'email': 0.9281880168286668,\n",
       " 'phone': 0.9968083563034963,\n",
       " 'work_email': 0.1302770927027419}"
      ]
     },
     "execution_count": 72,
     "metadata": {},
     "output_type": "execute_result"
    }
   ],
   "source": [
    "verification_dict = {}\n",
    "for i in df_listing[df_listing[\"host_verifications\"].notnull()][\"host_verifications\"].apply(eval):\n",
    "    for j in i:\n",
    "        if j not in verification_dict:\n",
    "            verification_dict[j] = 1\n",
    "        else:\n",
    "            verification_dict[j] += 1\n",
    "\n",
    "for key in verification_dict.keys():\n",
    "    verification_dict[key] =  verification_dict[key] / df_listing.shape[0] \n",
    "\n",
    "verification_dict\n",
    "\n"
   ]
  },
  {
   "cell_type": "markdown",
   "metadata": {},
   "source": [
    "### En fonction du type de room, calculez le nombre moyen d’amenities et l'écart type."
   ]
  },
  {
   "cell_type": "code",
   "execution_count": 100,
   "metadata": {},
   "outputs": [],
   "source": [
    "df_listing[\"nb_amenities\"] = df_listing[\"amenities\"].apply(eval).apply(len)"
   ]
  },
  {
   "cell_type": "code",
   "execution_count": 101,
   "metadata": {},
   "outputs": [
    {
     "data": {
      "text/html": [
       "<div>\n",
       "<style scoped>\n",
       "    .dataframe tbody tr th:only-of-type {\n",
       "        vertical-align: middle;\n",
       "    }\n",
       "\n",
       "    .dataframe tbody tr th {\n",
       "        vertical-align: top;\n",
       "    }\n",
       "\n",
       "    .dataframe thead tr th {\n",
       "        text-align: left;\n",
       "    }\n",
       "\n",
       "    .dataframe thead tr:last-of-type th {\n",
       "        text-align: right;\n",
       "    }\n",
       "</style>\n",
       "<table border=\"1\" class=\"dataframe\">\n",
       "  <thead>\n",
       "    <tr>\n",
       "      <th></th>\n",
       "      <th colspan=\"2\" halign=\"left\">nb_amenities</th>\n",
       "    </tr>\n",
       "    <tr>\n",
       "      <th></th>\n",
       "      <th>mean</th>\n",
       "      <th>std</th>\n",
       "    </tr>\n",
       "    <tr>\n",
       "      <th>room_type</th>\n",
       "      <th></th>\n",
       "      <th></th>\n",
       "    </tr>\n",
       "  </thead>\n",
       "  <tbody>\n",
       "    <tr>\n",
       "      <th>Entire home/apt</th>\n",
       "      <td>30.035961</td>\n",
       "      <td>13.892002</td>\n",
       "    </tr>\n",
       "    <tr>\n",
       "      <th>Hotel room</th>\n",
       "      <td>22.573333</td>\n",
       "      <td>9.434229</td>\n",
       "    </tr>\n",
       "    <tr>\n",
       "      <th>Private room</th>\n",
       "      <td>25.735342</td>\n",
       "      <td>12.106804</td>\n",
       "    </tr>\n",
       "    <tr>\n",
       "      <th>Shared room</th>\n",
       "      <td>13.648649</td>\n",
       "      <td>8.018091</td>\n",
       "    </tr>\n",
       "  </tbody>\n",
       "</table>\n",
       "</div>"
      ],
      "text/plain": [
       "                nb_amenities           \n",
       "                        mean        std\n",
       "room_type                              \n",
       "Entire home/apt    30.035961  13.892002\n",
       "Hotel room         22.573333   9.434229\n",
       "Private room       25.735342  12.106804\n",
       "Shared room        13.648649   8.018091"
      ]
     },
     "execution_count": 101,
     "metadata": {},
     "output_type": "execute_result"
    }
   ],
   "source": [
    "df_listing[[\"nb_amenities\",\"room_type\"]].groupby(\"room_type\").agg([\"mean\",\"std\"])"
   ]
  },
  {
   "cell_type": "code",
   "execution_count": 132,
   "metadata": {},
   "outputs": [
    {
     "data": {
      "text/html": [
       "<div>\n",
       "<style scoped>\n",
       "    .dataframe tbody tr th:only-of-type {\n",
       "        vertical-align: middle;\n",
       "    }\n",
       "\n",
       "    .dataframe tbody tr th {\n",
       "        vertical-align: top;\n",
       "    }\n",
       "\n",
       "    .dataframe thead th {\n",
       "        text-align: right;\n",
       "    }\n",
       "</style>\n",
       "<table border=\"1\" class=\"dataframe\">\n",
       "  <thead>\n",
       "    <tr style=\"text-align: right;\">\n",
       "      <th></th>\n",
       "      <th>nb_aminities_mean</th>\n",
       "      <th>nb_aminities_std</th>\n",
       "    </tr>\n",
       "    <tr>\n",
       "      <th>room_type</th>\n",
       "      <th></th>\n",
       "      <th></th>\n",
       "    </tr>\n",
       "  </thead>\n",
       "  <tbody>\n",
       "    <tr>\n",
       "      <th>Entire home/apt</th>\n",
       "      <td>30.035961</td>\n",
       "      <td>13.892002</td>\n",
       "    </tr>\n",
       "    <tr>\n",
       "      <th>Hotel room</th>\n",
       "      <td>22.573333</td>\n",
       "      <td>9.434229</td>\n",
       "    </tr>\n",
       "    <tr>\n",
       "      <th>Private room</th>\n",
       "      <td>25.735342</td>\n",
       "      <td>12.106804</td>\n",
       "    </tr>\n",
       "    <tr>\n",
       "      <th>Shared room</th>\n",
       "      <td>13.648649</td>\n",
       "      <td>8.018091</td>\n",
       "    </tr>\n",
       "  </tbody>\n",
       "</table>\n",
       "</div>"
      ],
      "text/plain": [
       "                 nb_aminities_mean  nb_aminities_std\n",
       "room_type                                           \n",
       "Entire home/apt          30.035961         13.892002\n",
       "Hotel room               22.573333          9.434229\n",
       "Private room             25.735342         12.106804\n",
       "Shared room              13.648649          8.018091"
      ]
     },
     "execution_count": 132,
     "metadata": {},
     "output_type": "execute_result"
    }
   ],
   "source": [
    "df_room_type = df_listing[[\"nb_amenities\",\"room_type\"]].groupby(\"room_type\").agg([\"mean\",\"std\"])\n",
    "df_room_type.columns = [\"nb_aminities_mean\",\"nb_aminities_std\"]\n",
    "df_room_type"
   ]
  },
  {
   "cell_type": "markdown",
   "metadata": {},
   "source": [
    "### Quel est le prix median par type de room, le maximum, le minimum, le premier et le troisième quartile?"
   ]
  },
  {
   "cell_type": "code",
   "execution_count": 133,
   "metadata": {},
   "outputs": [],
   "source": [
    "df_listing[\"clean_price\"] = df_listing[\"price\"].apply(lambda x: x.replace(\"$\",\"\")) \\\n",
    "                                               .apply(lambda x: x.replace(\",\",\"\")) \\\n",
    "                                               .astype(\"float\")\n",
    "           "
   ]
  },
  {
   "cell_type": "code",
   "execution_count": 134,
   "metadata": {},
   "outputs": [
    {
     "data": {
      "text/html": [
       "<div>\n",
       "<style scoped>\n",
       "    .dataframe tbody tr th:only-of-type {\n",
       "        vertical-align: middle;\n",
       "    }\n",
       "\n",
       "    .dataframe tbody tr th {\n",
       "        vertical-align: top;\n",
       "    }\n",
       "\n",
       "    .dataframe thead th {\n",
       "        text-align: right;\n",
       "    }\n",
       "</style>\n",
       "<table border=\"1\" class=\"dataframe\">\n",
       "  <thead>\n",
       "    <tr style=\"text-align: right;\">\n",
       "      <th></th>\n",
       "      <th>median_price</th>\n",
       "      <th>max_price</th>\n",
       "      <th>min_price</th>\n",
       "      <th>first_quartile_price</th>\n",
       "      <th>third_quartile_price</th>\n",
       "    </tr>\n",
       "    <tr>\n",
       "      <th>room_type</th>\n",
       "      <th></th>\n",
       "      <th></th>\n",
       "      <th></th>\n",
       "      <th></th>\n",
       "      <th></th>\n",
       "    </tr>\n",
       "  </thead>\n",
       "  <tbody>\n",
       "    <tr>\n",
       "      <th>Entire home/apt</th>\n",
       "      <td>200.0</td>\n",
       "      <td>7900.0</td>\n",
       "      <td>15.0</td>\n",
       "      <td>143.0</td>\n",
       "      <td>285.0</td>\n",
       "    </tr>\n",
       "    <tr>\n",
       "      <th>Hotel room</th>\n",
       "      <td>222.0</td>\n",
       "      <td>999.0</td>\n",
       "      <td>0.0</td>\n",
       "      <td>114.5</td>\n",
       "      <td>271.0</td>\n",
       "    </tr>\n",
       "    <tr>\n",
       "      <th>Private room</th>\n",
       "      <td>130.0</td>\n",
       "      <td>1657.0</td>\n",
       "      <td>25.0</td>\n",
       "      <td>94.0</td>\n",
       "      <td>198.0</td>\n",
       "    </tr>\n",
       "    <tr>\n",
       "      <th>Shared room</th>\n",
       "      <td>75.0</td>\n",
       "      <td>500.0</td>\n",
       "      <td>45.0</td>\n",
       "      <td>66.0</td>\n",
       "      <td>94.0</td>\n",
       "    </tr>\n",
       "  </tbody>\n",
       "</table>\n",
       "</div>"
      ],
      "text/plain": [
       "                 median_price  max_price  min_price  first_quartile_price  \\\n",
       "room_type                                                                   \n",
       "Entire home/apt         200.0     7900.0       15.0                 143.0   \n",
       "Hotel room              222.0      999.0        0.0                 114.5   \n",
       "Private room            130.0     1657.0       25.0                  94.0   \n",
       "Shared room              75.0      500.0       45.0                  66.0   \n",
       "\n",
       "                 third_quartile_price  \n",
       "room_type                              \n",
       "Entire home/apt                 285.0  \n",
       "Hotel room                      271.0  \n",
       "Private room                    198.0  \n",
       "Shared room                      94.0  "
      ]
     },
     "execution_count": 134,
     "metadata": {},
     "output_type": "execute_result"
    }
   ],
   "source": [
    "df_listing[[\"clean_price\",\"room_type\"]].groupby(\"room_type\").agg(\n",
    "    median_price=('clean_price', 'median'), \n",
    "    max_price=('clean_price', 'max'),\n",
    "    min_price=('clean_price', 'min'),\n",
    "    first_quartile_price=('clean_price',lambda x:x.quantile(0.25)),\n",
    "    third_quartile_price=('clean_price', lambda x:x.quantile(0.75)),\n",
    "    )"
   ]
  },
  {
   "cell_type": "markdown",
   "metadata": {},
   "source": [
    "### Si on considère qu’un \"bath\" vaut 1,  qu’une bath shared vaut 0.5 et qu’un private bath vaut 2. Combien y-a-t-il d’annonces par valeur de salle de bain. (0.5 / 1 / 1.5 ….)?"
   ]
  },
  {
   "cell_type": "code",
   "execution_count": 109,
   "metadata": {},
   "outputs": [
    {
     "data": {
      "text/plain": [
       "0.75"
      ]
     },
     "execution_count": 109,
     "metadata": {},
     "output_type": "execute_result"
    }
   ],
   "source": [
    "def valeur_salle_de_bain(x):\n",
    "    x_list = x.split(\" \")\n",
    "    x_value = 1\n",
    "    mapper = {\"bath\":1, \"baths\":1, \"private\":2, \"shared\":0.5, \"half-bath\":0.5}\n",
    "    for element in x_list:\n",
    "        try: \n",
    "            x_value *= float(element)\n",
    "        except:\n",
    "            x_value *= mapper[element.lower()]\n",
    "    return x_value\n",
    "\n",
    "valeur_salle_de_bain(\"1.5 shared baths\")"
   ]
  },
  {
   "cell_type": "code",
   "execution_count": 135,
   "metadata": {},
   "outputs": [
    {
     "data": {
      "text/plain": [
       "0.00       33\n",
       "0.25       17\n",
       "0.50      355\n",
       "0.75      198\n",
       "1.00     2807\n",
       "1.50     1928\n",
       "1.75        1\n",
       "2.00     1260\n",
       "2.50      157\n",
       "3.00       79\n",
       "3.50       25\n",
       "4.00        4\n",
       "4.50        7\n",
       "5.00        4\n",
       "5.50        2\n",
       "17.00       1\n",
       "Name: bathrooms_text, dtype: int64"
      ]
     },
     "execution_count": 135,
     "metadata": {},
     "output_type": "execute_result"
    }
   ],
   "source": [
    "df_listing[\"bathrooms_text\"].dropna().apply(valeur_salle_de_bain).value_counts().sort_index(ascending=True)"
   ]
  },
  {
   "cell_type": "code",
   "execution_count": 105,
   "metadata": {},
   "outputs": [
    {
     "name": "stdout",
     "output_type": "stream",
     "text": [
      "<class 'pandas.core.frame.DataFrame'>\n",
      "RangeIndex: 6893 entries, 0 to 6892\n",
      "Data columns (total 77 columns):\n",
      " #   Column                                        Non-Null Count  Dtype  \n",
      "---  ------                                        --------------  -----  \n",
      " 0   id                                            6893 non-null   int64  \n",
      " 1   listing_url                                   6893 non-null   object \n",
      " 2   scrape_id                                     6893 non-null   int64  \n",
      " 3   last_scraped                                  6893 non-null   object \n",
      " 4   source                                        6893 non-null   object \n",
      " 5   name                                          6893 non-null   object \n",
      " 6   description                                   6877 non-null   object \n",
      " 7   neighborhood_overview                         4628 non-null   object \n",
      " 8   picture_url                                   6893 non-null   object \n",
      " 9   host_id                                       6893 non-null   int64  \n",
      " 10  host_url                                      6893 non-null   object \n",
      " 11  host_name                                     6893 non-null   object \n",
      " 12  host_since                                    6893 non-null   object \n",
      " 13  host_location                                 6122 non-null   object \n",
      " 14  host_about                                    4132 non-null   object \n",
      " 15  host_response_time                            5236 non-null   object \n",
      " 16  host_response_rate                            5236 non-null   object \n",
      " 17  host_acceptance_rate                          6031 non-null   object \n",
      " 18  host_is_superhost                             6885 non-null   object \n",
      " 19  host_thumbnail_url                            6893 non-null   object \n",
      " 20  host_picture_url                              6893 non-null   object \n",
      " 21  host_neighbourhood                            3096 non-null   object \n",
      " 22  host_listings_count                           6893 non-null   int64  \n",
      " 23  host_total_listings_count                     6893 non-null   int64  \n",
      " 24  host_verifications                            6893 non-null   object \n",
      " 25  host_has_profile_pic                          6893 non-null   object \n",
      " 26  host_identity_verified                        6893 non-null   object \n",
      " 27  neighbourhood                                 4628 non-null   object \n",
      " 28  neighbourhood_cleansed                        6893 non-null   object \n",
      " 29  neighbourhood_group_cleansed                  0 non-null      float64\n",
      " 30  latitude                                      6893 non-null   float64\n",
      " 31  longitude                                     6893 non-null   float64\n",
      " 32  property_type                                 6893 non-null   object \n",
      " 33  room_type                                     6893 non-null   object \n",
      " 34  accommodates                                  6893 non-null   int64  \n",
      " 35  bathrooms                                     0 non-null      float64\n",
      " 36  bathrooms_text                                6878 non-null   object \n",
      " 37  bedrooms                                      6578 non-null   float64\n",
      " 38  beds                                          6792 non-null   float64\n",
      " 39  amenities                                     6893 non-null   object \n",
      " 40  price                                         6893 non-null   object \n",
      " 41  minimum_nights                                6893 non-null   int64  \n",
      " 42  maximum_nights                                6893 non-null   int64  \n",
      " 43  minimum_minimum_nights                        6891 non-null   float64\n",
      " 44  maximum_minimum_nights                        6891 non-null   float64\n",
      " 45  minimum_maximum_nights                        6891 non-null   float64\n",
      " 46  maximum_maximum_nights                        6891 non-null   float64\n",
      " 47  minimum_nights_avg_ntm                        6891 non-null   float64\n",
      " 48  maximum_nights_avg_ntm                        6891 non-null   float64\n",
      " 49  calendar_updated                              0 non-null      float64\n",
      " 50  has_availability                              6893 non-null   object \n",
      " 51  availability_30                               6893 non-null   int64  \n",
      " 52  availability_60                               6893 non-null   int64  \n",
      " 53  availability_90                               6893 non-null   int64  \n",
      " 54  availability_365                              6893 non-null   int64  \n",
      " 55  calendar_last_scraped                         6893 non-null   object \n",
      " 56  number_of_reviews                             6893 non-null   int64  \n",
      " 57  number_of_reviews_ltm                         6893 non-null   int64  \n",
      " 58  number_of_reviews_l30d                        6893 non-null   int64  \n",
      " 59  first_review                                  6247 non-null   object \n",
      " 60  last_review                                   6247 non-null   object \n",
      " 61  review_scores_rating                          6247 non-null   float64\n",
      " 62  review_scores_accuracy                        6242 non-null   float64\n",
      " 63  review_scores_cleanliness                     6242 non-null   float64\n",
      " 64  review_scores_checkin                         6242 non-null   float64\n",
      " 65  review_scores_communication                   6242 non-null   float64\n",
      " 66  review_scores_location                        6242 non-null   float64\n",
      " 67  review_scores_value                           6242 non-null   float64\n",
      " 68  license                                       6449 non-null   object \n",
      " 69  instant_bookable                              6893 non-null   object \n",
      " 70  calculated_host_listings_count                6893 non-null   int64  \n",
      " 71  calculated_host_listings_count_entire_homes   6893 non-null   int64  \n",
      " 72  calculated_host_listings_count_private_rooms  6893 non-null   int64  \n",
      " 73  calculated_host_listings_count_shared_rooms   6893 non-null   int64  \n",
      " 74  reviews_per_month                             6247 non-null   float64\n",
      " 75  nb_amenities                                  6893 non-null   int64  \n",
      " 76  clean_price                                   6893 non-null   float64\n",
      "dtypes: float64(22), int64(20), object(35)\n",
      "memory usage: 4.0+ MB\n"
     ]
    }
   ],
   "source": [
    "df_listing.info()"
   ]
  },
  {
   "cell_type": "code",
   "execution_count": 104,
   "metadata": {},
   "outputs": [
    {
     "data": {
      "text/html": [
       "<div>\n",
       "<style scoped>\n",
       "    .dataframe tbody tr th:only-of-type {\n",
       "        vertical-align: middle;\n",
       "    }\n",
       "\n",
       "    .dataframe tbody tr th {\n",
       "        vertical-align: top;\n",
       "    }\n",
       "\n",
       "    .dataframe thead th {\n",
       "        text-align: right;\n",
       "    }\n",
       "</style>\n",
       "<table border=\"1\" class=\"dataframe\">\n",
       "  <thead>\n",
       "    <tr style=\"text-align: right;\">\n",
       "      <th></th>\n",
       "      <th>bathrooms</th>\n",
       "      <th>bathrooms_text</th>\n",
       "    </tr>\n",
       "  </thead>\n",
       "  <tbody>\n",
       "    <tr>\n",
       "      <th>0</th>\n",
       "      <td>NaN</td>\n",
       "      <td>1.5 shared baths</td>\n",
       "    </tr>\n",
       "    <tr>\n",
       "      <th>1</th>\n",
       "      <td>NaN</td>\n",
       "      <td>1 private bath</td>\n",
       "    </tr>\n",
       "    <tr>\n",
       "      <th>2</th>\n",
       "      <td>NaN</td>\n",
       "      <td>1.5 baths</td>\n",
       "    </tr>\n",
       "    <tr>\n",
       "      <th>3</th>\n",
       "      <td>NaN</td>\n",
       "      <td>1 shared bath</td>\n",
       "    </tr>\n",
       "    <tr>\n",
       "      <th>4</th>\n",
       "      <td>NaN</td>\n",
       "      <td>1 shared bath</td>\n",
       "    </tr>\n",
       "    <tr>\n",
       "      <th>...</th>\n",
       "      <td>...</td>\n",
       "      <td>...</td>\n",
       "    </tr>\n",
       "    <tr>\n",
       "      <th>6888</th>\n",
       "      <td>NaN</td>\n",
       "      <td>2.5 baths</td>\n",
       "    </tr>\n",
       "    <tr>\n",
       "      <th>6889</th>\n",
       "      <td>NaN</td>\n",
       "      <td>3 baths</td>\n",
       "    </tr>\n",
       "    <tr>\n",
       "      <th>6890</th>\n",
       "      <td>NaN</td>\n",
       "      <td>2 baths</td>\n",
       "    </tr>\n",
       "    <tr>\n",
       "      <th>6891</th>\n",
       "      <td>NaN</td>\n",
       "      <td>2 baths</td>\n",
       "    </tr>\n",
       "    <tr>\n",
       "      <th>6892</th>\n",
       "      <td>NaN</td>\n",
       "      <td>2 baths</td>\n",
       "    </tr>\n",
       "  </tbody>\n",
       "</table>\n",
       "<p>6893 rows × 2 columns</p>\n",
       "</div>"
      ],
      "text/plain": [
       "      bathrooms    bathrooms_text\n",
       "0           NaN  1.5 shared baths\n",
       "1           NaN    1 private bath\n",
       "2           NaN         1.5 baths\n",
       "3           NaN     1 shared bath\n",
       "4           NaN     1 shared bath\n",
       "...         ...               ...\n",
       "6888        NaN         2.5 baths\n",
       "6889        NaN           3 baths\n",
       "6890        NaN           2 baths\n",
       "6891        NaN           2 baths\n",
       "6892        NaN           2 baths\n",
       "\n",
       "[6893 rows x 2 columns]"
      ]
     },
     "execution_count": 104,
     "metadata": {},
     "output_type": "execute_result"
    }
   ],
   "source": [
    "df_listing[[\"bathrooms\",\"bathrooms_text\"]]"
   ]
  },
  {
   "cell_type": "markdown",
   "metadata": {},
   "source": [
    "### Il y a t’il une corrélation entre le nombre de reviews et la taille de la description en terme de nombre de caractères?"
   ]
  },
  {
   "cell_type": "code",
   "execution_count": 120,
   "metadata": {},
   "outputs": [
    {
     "data": {
      "text/html": [
       "<div>\n",
       "<style scoped>\n",
       "    .dataframe tbody tr th:only-of-type {\n",
       "        vertical-align: middle;\n",
       "    }\n",
       "\n",
       "    .dataframe tbody tr th {\n",
       "        vertical-align: top;\n",
       "    }\n",
       "\n",
       "    .dataframe thead th {\n",
       "        text-align: right;\n",
       "    }\n",
       "</style>\n",
       "<table border=\"1\" class=\"dataframe\">\n",
       "  <thead>\n",
       "    <tr style=\"text-align: right;\">\n",
       "      <th></th>\n",
       "      <th>description_len</th>\n",
       "      <th>number_of_reviews</th>\n",
       "    </tr>\n",
       "  </thead>\n",
       "  <tbody>\n",
       "    <tr>\n",
       "      <th>description_len</th>\n",
       "      <td>1.000000</td>\n",
       "      <td>0.189901</td>\n",
       "    </tr>\n",
       "    <tr>\n",
       "      <th>number_of_reviews</th>\n",
       "      <td>0.189901</td>\n",
       "      <td>1.000000</td>\n",
       "    </tr>\n",
       "  </tbody>\n",
       "</table>\n",
       "</div>"
      ],
      "text/plain": [
       "                   description_len  number_of_reviews\n",
       "description_len           1.000000           0.189901\n",
       "number_of_reviews         0.189901           1.000000"
      ]
     },
     "execution_count": 120,
     "metadata": {},
     "output_type": "execute_result"
    }
   ],
   "source": [
    "df_cor = df_listing[[\"description\", \"number_of_reviews\"]].dropna()\n",
    "df_cor[\"description_len\"] = df_cor[\"description\"].apply(len) \n",
    "df_cor[[\"description_len\", \"number_of_reviews\"]].corr()"
   ]
  },
  {
   "cell_type": "markdown",
   "metadata": {},
   "source": [
    "### On suspecte des faux commentaires. Pour identifier cela on regarde les séjours où le nom de l’host est le même que le nom du reviewer.  Quel est ce pourcentage général de séjour où le nom de l'host est identique au nom du reviewer?"
   ]
  },
  {
   "cell_type": "code",
   "execution_count": 121,
   "metadata": {},
   "outputs": [],
   "source": [
    "df_reviews = pd.read_csv(\"Data/reviews.csv\")"
   ]
  },
  {
   "cell_type": "code",
   "execution_count": 123,
   "metadata": {},
   "outputs": [],
   "source": [
    "df_merge = df_reviews.merge(df_listing, how=\"left\", left_on=\"listing_id\", right_on=\"id\")"
   ]
  },
  {
   "cell_type": "code",
   "execution_count": 127,
   "metadata": {},
   "outputs": [
    {
     "data": {
      "text/html": [
       "<div>\n",
       "<style scoped>\n",
       "    .dataframe tbody tr th:only-of-type {\n",
       "        vertical-align: middle;\n",
       "    }\n",
       "\n",
       "    .dataframe tbody tr th {\n",
       "        vertical-align: top;\n",
       "    }\n",
       "\n",
       "    .dataframe thead th {\n",
       "        text-align: right;\n",
       "    }\n",
       "</style>\n",
       "<table border=\"1\" class=\"dataframe\">\n",
       "  <thead>\n",
       "    <tr style=\"text-align: right;\">\n",
       "      <th></th>\n",
       "      <th>host_name</th>\n",
       "      <th>reviewer_name</th>\n",
       "    </tr>\n",
       "  </thead>\n",
       "  <tbody>\n",
       "    <tr>\n",
       "      <th>293</th>\n",
       "      <td>Daniel</td>\n",
       "      <td>Daniel</td>\n",
       "    </tr>\n",
       "    <tr>\n",
       "      <th>298</th>\n",
       "      <td>Daniel</td>\n",
       "      <td>Daniel</td>\n",
       "    </tr>\n",
       "    <tr>\n",
       "      <th>358</th>\n",
       "      <td>Nathalie</td>\n",
       "      <td>Nathalie</td>\n",
       "    </tr>\n",
       "    <tr>\n",
       "      <th>719</th>\n",
       "      <td>Daniel</td>\n",
       "      <td>Daniel</td>\n",
       "    </tr>\n",
       "    <tr>\n",
       "      <th>3882</th>\n",
       "      <td>Peter</td>\n",
       "      <td>Peter</td>\n",
       "    </tr>\n",
       "    <tr>\n",
       "      <th>...</th>\n",
       "      <td>...</td>\n",
       "      <td>...</td>\n",
       "    </tr>\n",
       "    <tr>\n",
       "      <th>335932</th>\n",
       "      <td>Jonathan</td>\n",
       "      <td>Jonathan</td>\n",
       "    </tr>\n",
       "    <tr>\n",
       "      <th>336900</th>\n",
       "      <td>Caroline</td>\n",
       "      <td>Caroline</td>\n",
       "    </tr>\n",
       "    <tr>\n",
       "      <th>338512</th>\n",
       "      <td>David</td>\n",
       "      <td>David</td>\n",
       "    </tr>\n",
       "    <tr>\n",
       "      <th>341760</th>\n",
       "      <td>Christina</td>\n",
       "      <td>Christina</td>\n",
       "    </tr>\n",
       "    <tr>\n",
       "      <th>341794</th>\n",
       "      <td>Christina</td>\n",
       "      <td>Christina</td>\n",
       "    </tr>\n",
       "  </tbody>\n",
       "</table>\n",
       "<p>171 rows × 2 columns</p>\n",
       "</div>"
      ],
      "text/plain": [
       "        host_name reviewer_name\n",
       "293        Daniel        Daniel\n",
       "298        Daniel        Daniel\n",
       "358      Nathalie      Nathalie\n",
       "719        Daniel        Daniel\n",
       "3882        Peter         Peter\n",
       "...           ...           ...\n",
       "335932   Jonathan      Jonathan\n",
       "336900   Caroline      Caroline\n",
       "338512      David         David\n",
       "341760  Christina     Christina\n",
       "341794  Christina     Christina\n",
       "\n",
       "[171 rows x 2 columns]"
      ]
     },
     "execution_count": 127,
     "metadata": {},
     "output_type": "execute_result"
    }
   ],
   "source": [
    "df_merge.loc[ df_merge[\"host_name\"].apply(lambda x:x.lower())== df_merge[\"reviewer_name\"].apply(lambda x:x.lower()), [\"host_name\",\"reviewer_name\"]]"
   ]
  },
  {
   "cell_type": "code",
   "execution_count": 128,
   "metadata": {},
   "outputs": [
    {
     "data": {
      "text/plain": [
       "0.0004986818468142687"
      ]
     },
     "execution_count": 128,
     "metadata": {},
     "output_type": "execute_result"
    }
   ],
   "source": [
    "171/df_merge.shape[0]"
   ]
  }
 ],
 "metadata": {
  "kernelspec": {
   "display_name": "Python 3.10.8 ('data_analyse_env')",
   "language": "python",
   "name": "python3"
  },
  "language_info": {
   "codemirror_mode": {
    "name": "ipython",
    "version": 3
   },
   "file_extension": ".py",
   "mimetype": "text/x-python",
   "name": "python",
   "nbconvert_exporter": "python",
   "pygments_lexer": "ipython3",
   "version": "3.10.8"
  },
  "orig_nbformat": 4,
  "vscode": {
   "interpreter": {
    "hash": "50c52476c02cbfefca591b8099115325c0de15039314800fab5fe97947a7a8b4"
   }
  }
 },
 "nbformat": 4,
 "nbformat_minor": 2
}
